{
 "cells": [
  {
   "cell_type": "code",
   "execution_count": 0,
   "metadata": {
    "application/vnd.databricks.v1+cell": {
     "cellMetadata": {
      "byteLimit": 2048000,
      "rowLimit": 10000
     },
     "inputWidgets": {},
     "nuid": "32ae8ef8-4bd5-46a0-972b-b3b5887481f5",
     "showTitle": false,
     "title": ""
    }
   },
   "outputs": [
    {
     "output_type": "stream",
     "name": "stdout",
     "output_type": "stream",
     "text": [
      "root\n |-- YEAR: integer (nullable = true)\n |-- QUARTER: integer (nullable = true)\n |-- MONTH: integer (nullable = true)\n |-- DAY_OF_MONTH: integer (nullable = true)\n |-- DAY_OF_WEEK: integer (nullable = true)\n |-- FL_DATE: date (nullable = true)\n |-- OP_UNIQUE_CARRIER: string (nullable = true)\n |-- OP_CARRIER_AIRLINE_ID: integer (nullable = true)\n |-- OP_CARRIER: string (nullable = true)\n |-- TAIL_NUM: string (nullable = true)\n |-- OP_CARRIER_FL_NUM: integer (nullable = true)\n |-- ORIGIN_AIRPORT_ID: integer (nullable = true)\n |-- ORIGIN_AIRPORT_SEQ_ID: integer (nullable = true)\n |-- ORIGIN_CITY_MARKET_ID: integer (nullable = true)\n |-- ORIGIN: string (nullable = true)\n |-- ORIGIN_CITY_NAME: string (nullable = true)\n |-- ORIGIN_STATE_ABR: string (nullable = true)\n |-- ORIGIN_STATE_FIPS: integer (nullable = true)\n |-- ORIGIN_STATE_NM: string (nullable = true)\n |-- ORIGIN_WAC: integer (nullable = true)\n |-- DEST_AIRPORT_ID: integer (nullable = true)\n |-- DEST_AIRPORT_SEQ_ID: integer (nullable = true)\n |-- DEST_CITY_MARKET_ID: integer (nullable = true)\n |-- DEST: string (nullable = true)\n |-- DEST_CITY_NAME: string (nullable = true)\n |-- DEST_STATE_ABR: string (nullable = true)\n |-- DEST_STATE_FIPS: integer (nullable = true)\n |-- DEST_STATE_NM: string (nullable = true)\n |-- DEST_WAC: integer (nullable = true)\n |-- CRS_DEP_TIME: integer (nullable = true)\n |-- DEP_TIME: string (nullable = true)\n |-- DEP_DELAY: string (nullable = true)\n |-- DEP_DELAY_NEW: string (nullable = true)\n |-- DEP_DEL15: string (nullable = true)\n |-- DEP_DELAY_GROUP: string (nullable = true)\n |-- DEP_TIME_BLK: string (nullable = true)\n |-- TAXI_OUT: string (nullable = true)\n |-- WHEELS_OFF: string (nullable = true)\n |-- WHEELS_ON: string (nullable = true)\n |-- TAXI_IN: string (nullable = true)\n |-- CRS_ARR_TIME: integer (nullable = true)\n |-- ARR_TIME: string (nullable = true)\n |-- ARR_DELAY: string (nullable = true)\n |-- ARR_DELAY_NEW: string (nullable = true)\n |-- ARR_DEL15: string (nullable = true)\n |-- ARR_DELAY_GROUP: string (nullable = true)\n |-- ARR_TIME_BLK: string (nullable = true)\n |-- CANCELLED: integer (nullable = true)\n |-- CANCELLATION_CODE: string (nullable = true)\n |-- DIVERTED: integer (nullable = true)\n |-- CRS_ELAPSED_TIME: string (nullable = true)\n |-- ACTUAL_ELAPSED_TIME: string (nullable = true)\n |-- AIR_TIME: string (nullable = true)\n |-- FLIGHTS: integer (nullable = true)\n |-- DISTANCE: integer (nullable = true)\n |-- DISTANCE_GROUP: integer (nullable = true)\n |-- CARRIER_DELAY: string (nullable = true)\n |-- WEATHER_DELAY: string (nullable = true)\n |-- NAS_DELAY: string (nullable = true)\n |-- SECURITY_DELAY: string (nullable = true)\n |-- LATE_AIRCRAFT_DELAY: string (nullable = true)\n |-- FIRST_DEP_TIME: string (nullable = true)\n |-- TOTAL_ADD_GTIME: string (nullable = true)\n |-- LONGEST_ADD_GTIME: string (nullable = true)\n |-- _c64: string (nullable = true)\n\n+----+-------+-----+------------+-----------+----------+-----------------+---------------------+----------+--------+-----------------+-----------------+---------------------+---------------------+------+----------------+----------------+-----------------+---------------+----------+---------------+-------------------+-------------------+----+----------------+--------------+---------------+-------------+--------+------------+--------+---------+-------------+---------+---------------+------------+--------+----------+---------+-------+------------+--------+---------+-------------+---------+---------------+------------+---------+-----------------+--------+----------------+-------------------+--------+-------+--------+--------------+-------------+-------------+---------+--------------+-------------------+--------------+---------------+-----------------+----+\n|YEAR|QUARTER|MONTH|DAY_OF_MONTH|DAY_OF_WEEK|   FL_DATE|OP_UNIQUE_CARRIER|OP_CARRIER_AIRLINE_ID|OP_CARRIER|TAIL_NUM|OP_CARRIER_FL_NUM|ORIGIN_AIRPORT_ID|ORIGIN_AIRPORT_SEQ_ID|ORIGIN_CITY_MARKET_ID|ORIGIN|ORIGIN_CITY_NAME|ORIGIN_STATE_ABR|ORIGIN_STATE_FIPS|ORIGIN_STATE_NM|ORIGIN_WAC|DEST_AIRPORT_ID|DEST_AIRPORT_SEQ_ID|DEST_CITY_MARKET_ID|DEST|  DEST_CITY_NAME|DEST_STATE_ABR|DEST_STATE_FIPS|DEST_STATE_NM|DEST_WAC|CRS_DEP_TIME|DEP_TIME|DEP_DELAY|DEP_DELAY_NEW|DEP_DEL15|DEP_DELAY_GROUP|DEP_TIME_BLK|TAXI_OUT|WHEELS_OFF|WHEELS_ON|TAXI_IN|CRS_ARR_TIME|ARR_TIME|ARR_DELAY|ARR_DELAY_NEW|ARR_DEL15|ARR_DELAY_GROUP|ARR_TIME_BLK|CANCELLED|CANCELLATION_CODE|DIVERTED|CRS_ELAPSED_TIME|ACTUAL_ELAPSED_TIME|AIR_TIME|FLIGHTS|DISTANCE|DISTANCE_GROUP|CARRIER_DELAY|WEATHER_DELAY|NAS_DELAY|SECURITY_DELAY|LATE_AIRCRAFT_DELAY|FIRST_DEP_TIME|TOTAL_ADD_GTIME|LONGEST_ADD_GTIME|_c64|\n+----+-------+-----+------------+-----------+----------+-----------------+---------------------+----------+--------+-----------------+-----------------+---------------------+---------------------+------+----------------+----------------+-----------------+---------------+----------+---------------+-------------------+-------------------+----+----------------+--------------+---------------+-------------+--------+------------+--------+---------+-------------+---------+---------------+------------+--------+----------+---------+-------+------------+--------+---------+-------------+---------+---------------+------------+---------+-----------------+--------+----------------+-------------------+--------+-------+--------+--------------+-------------+-------------+---------+--------------+-------------------+--------------+---------------+-----------------+----+\n|2019|      1|    1|          16|          3|2019-01-16|               AA|                19805|        AA|  N150UW|              544|            10721|              1072102|                30721|   BOS|      Boston, MA|              MA|               25|  Massachusetts|        13|          14100|            1410005|              34100| PHL|Philadelphia, PA|            PA|             42| Pennsylvania|      23|         537|    0528|       -9|            0|        0|             -1|   0001-0559|      13|      0541|     0642|      4|         713|    0646|      -27|            0|        0|             -2|   0700-0759|        0|               NA|       0|              96|                 78|      61|      1|     280|             2|           NA|           NA|       NA|            NA|                 NA|            NA|             NA|               NA|  NA|\n|2019|      1|    1|          17|          4|2019-01-17|               AA|                19805|        AA|  N563UW|              544|            10721|              1072102|                30721|   BOS|      Boston, MA|              MA|               25|  Massachusetts|        13|          14100|            1410005|              34100| PHL|Philadelphia, PA|            PA|             42| Pennsylvania|      23|         537|    0528|       -9|            0|        0|             -1|   0001-0559|      25|      0553|     0659|      6|         713|    0705|       -8|            0|        0|             -1|   0700-0759|        0|               NA|       0|              96|                 97|      66|      1|     280|             2|           NA|           NA|       NA|            NA|                 NA|            NA|             NA|               NA|  NA|\n|2019|      1|    1|          18|          5|2019-01-18|               AA|                19805|        AA|  N921US|              544|            10721|              1072102|                30721|   BOS|      Boston, MA|              MA|               25|  Massachusetts|        13|          14100|            1410005|              34100| PHL|Philadelphia, PA|            PA|             42| Pennsylvania|      23|         537|    0529|       -8|            0|        0|             -1|   0001-0559|      15|      0544|     0650|      9|         713|    0659|      -14|            0|        0|             -1|   0700-0759|        0|               NA|       0|              96|                 90|      66|      1|     280|             2|           NA|           NA|       NA|            NA|                 NA|            NA|             NA|               NA|  NA|\n|2019|      1|    1|          19|          6|2019-01-19|               AA|                19805|        AA|  N604AW|              544|            10721|              1072102|                30721|   BOS|      Boston, MA|              MA|               25|  Massachusetts|        13|          14100|            1410005|              34100| PHL|Philadelphia, PA|            PA|             42| Pennsylvania|      23|         537|    0537|        0|            0|        0|              0|   0001-0559|      25|      0602|     0706|      9|         713|    0715|        2|            2|        0|              0|   0700-0759|        0|               NA|       0|              96|                 98|      64|      1|     280|             2|           NA|           NA|       NA|            NA|                 NA|            NA|             NA|               NA|  NA|\n|2019|      1|    1|          20|          7|2019-01-20|               AA|                19805|        AA|  N975UY|              544|            10721|              1072102|                30721|   BOS|      Boston, MA|              MA|               25|  Massachusetts|        13|          14100|            1410005|              34100| PHL|Philadelphia, PA|            PA|             42| Pennsylvania|      23|         537|      NA|       NA|           NA|       NA|             NA|   0001-0559|      NA|        NA|       NA|     NA|         713|      NA|       NA|           NA|       NA|             NA|   0700-0759|        1|                B|       0|              96|                 NA|      NA|      1|     280|             2|           NA|           NA|       NA|            NA|                 NA|            NA|             NA|               NA|  NA|\n+----+-------+-----+------------+-----------+----------+-----------------+---------------------+----------+--------+-----------------+-----------------+---------------------+---------------------+------+----------------+----------------+-----------------+---------------+----------+---------------+-------------------+-------------------+----+----------------+--------------+---------------+-------------+--------+------------+--------+---------+-------------+---------+---------------+------------+--------+----------+---------+-------+------------+--------+---------+-------------+---------+---------------+------------+---------+-----------------+--------+----------------+-------------------+--------+-------+--------+--------------+-------------+-------------+---------+--------------+-------------------+--------------+---------------+-----------------+----+\nonly showing top 5 rows\n\n"
     ]
    }
   ],
   "source": [
    "from pyspark.sql import SparkSession\n",
    "\n",
    "# Start a spark session\n",
    "spark = SparkSession.builder \\\n",
    "    .appName(\"Airline Performance Analysis\") \\\n",
    "    .getOrCreate()\n",
    "\n",
    "# Load the data from a csv file\n",
    "file_path = \"/FileStore/shared_uploads/manjooranjoseph13@gmail.com/q1.csv\"\n",
    "df = spark.read.csv(file_path, header = True, inferSchema = True)\n",
    "\n",
    "# Show the schema to understand the structure of the data\n",
    "df.printSchema()\n",
    "\n",
    "# Display a few records to preview the data\n",
    "df.show(5)\n"
   ]
  },
  {
   "cell_type": "code",
   "execution_count": 0,
   "metadata": {
    "application/vnd.databricks.v1+cell": {
     "cellMetadata": {
      "byteLimit": 2048000,
      "rowLimit": 10000
     },
     "inputWidgets": {},
     "nuid": "9ab77607-9ea9-434e-b93b-dc8c377582b3",
     "showTitle": false,
     "title": ""
    }
   },
   "outputs": [
    {
     "output_type": "stream",
     "name": "stdout",
     "output_type": "stream",
     "text": [
      "root\n |-- YEAR: integer (nullable = true)\n |-- QUARTER: integer (nullable = true)\n |-- MONTH: integer (nullable = true)\n |-- DAY_OF_MONTH: integer (nullable = true)\n |-- DAY_OF_WEEK: integer (nullable = true)\n |-- FL_DATE: date (nullable = true)\n |-- OP_UNIQUE_CARRIER: string (nullable = true)\n |-- OP_CARRIER_AIRLINE_ID: integer (nullable = true)\n |-- OP_CARRIER: string (nullable = true)\n |-- ORIGIN_AIRPORT_ID: integer (nullable = true)\n |-- ORIGIN: string (nullable = true)\n |-- ORIGIN_CITY_NAME: string (nullable = true)\n |-- ORIGIN_STATE_ABR: string (nullable = true)\n |-- ORIGIN_STATE_NM: string (nullable = true)\n |-- DEST_AIRPORT_ID: integer (nullable = true)\n |-- DEST: string (nullable = true)\n |-- DEST_CITY_NAME: string (nullable = true)\n |-- DEST_STATE_ABR: string (nullable = true)\n |-- DEST_STATE_NM: string (nullable = true)\n |-- DEP_TIME: string (nullable = true)\n |-- DEP_DELAY: string (nullable = true)\n |-- DEP_DELAY_NEW: string (nullable = true)\n |-- DEP_DEL15: string (nullable = true)\n |-- DEP_DELAY_GROUP: string (nullable = true)\n |-- DEP_TIME_BLK: string (nullable = true)\n |-- ARR_TIME: string (nullable = true)\n |-- ARR_DELAY: string (nullable = true)\n |-- ARR_DELAY_NEW: string (nullable = true)\n |-- ARR_DEL15: string (nullable = true)\n |-- ARR_DELAY_GROUP: string (nullable = true)\n |-- ARR_TIME_BLK: string (nullable = true)\n |-- CANCELLED: integer (nullable = true)\n |-- DIVERTED: integer (nullable = true)\n |-- DISTANCE: integer (nullable = true)\n\n"
     ]
    }
   ],
   "source": [
    "# List of columns to drop\n",
    "columns_to_drop = [\n",
    "    \"TAIL_NUM\", \"OP_CARRIER_FL_NUM\", \"ORIGIN_AIRPORT_SEQ_ID\", \"ORIGIN_CITY_MARKET_ID\", \"ORIGIN_STATE_FIPS\",\n",
    "    \"ORIGIN_WAC\", \"DEST_AIRPORT_SEQ_ID\", \"DEST_CITY_MARKET_ID\", \"DEST_STATE_FIPS\", \"DEST_WAC\", \"CRS_DEP_TIME\",\n",
    "    \"CRS_ARR_TIME\", \"TAXI_OUT\", \"TAXI_IN\", \"WHEELS_OFF\", \"WHEELS_ON\", \"CANCELLATION_CODE\", \"CRS_ELAPSED_TIME\",\n",
    "    \"ACTUAL_ELAPSED_TIME\", \"AIR_TIME\", \"FLIGHTS\", \"DISTANCE_GROUP\", \"CARRIER_DELAY\", \"WEATHER_DELAY\", \n",
    "    \"NAS_DELAY\", \"SECURITY_DELAY\", \"LATE_AIRCRAFT_DELAY\", \"FIRST_DEP_TIME\", \"TOTAL_ADD_GTIME\", \"LONGEST_ADD_GTIME\", \"_c64\"\n",
    "]\n",
    "\n",
    "# Drop the columns\n",
    "df_cleaned = df.drop(*columns_to_drop)\n",
    "\n",
    "# Show the cleaned DataFrame schema\n",
    "df_cleaned.printSchema()"
   ]
  },
  {
   "cell_type": "code",
   "execution_count": 0,
   "metadata": {
    "application/vnd.databricks.v1+cell": {
     "cellMetadata": {
      "byteLimit": 2048000,
      "rowLimit": 10000
     },
     "inputWidgets": {},
     "nuid": "eef2d327-69bc-40aa-96dd-355ba93be447",
     "showTitle": false,
     "title": ""
    }
   },
   "outputs": [
    {
     "output_type": "stream",
     "name": "stdout",
     "output_type": "stream",
     "text": [
      "+----+-------+-----+------------+-----------+----------+-----------------+---------------------+----------+-----------------+------+----------------+----------------+---------------+---------------+----+----------------+--------------+-------------+--------+---------+-------------+---------+---------------+------------+--------+---------+-------------+---------+---------------+------------+---------+--------+--------+\n|YEAR|QUARTER|MONTH|DAY_OF_MONTH|DAY_OF_WEEK|   FL_DATE|OP_UNIQUE_CARRIER|OP_CARRIER_AIRLINE_ID|OP_CARRIER|ORIGIN_AIRPORT_ID|ORIGIN|ORIGIN_CITY_NAME|ORIGIN_STATE_ABR|ORIGIN_STATE_NM|DEST_AIRPORT_ID|DEST|  DEST_CITY_NAME|DEST_STATE_ABR|DEST_STATE_NM|DEP_TIME|DEP_DELAY|DEP_DELAY_NEW|DEP_DEL15|DEP_DELAY_GROUP|DEP_TIME_BLK|ARR_TIME|ARR_DELAY|ARR_DELAY_NEW|ARR_DEL15|ARR_DELAY_GROUP|ARR_TIME_BLK|CANCELLED|DIVERTED|DISTANCE|\n+----+-------+-----+------------+-----------+----------+-----------------+---------------------+----------+-----------------+------+----------------+----------------+---------------+---------------+----+----------------+--------------+-------------+--------+---------+-------------+---------+---------------+------------+--------+---------+-------------+---------+---------------+------------+---------+--------+--------+\n|2019|      1|    1|          16|          3|2019-01-16|               AA|                19805|        AA|            10721|   BOS|      Boston, MA|              MA|  Massachusetts|          14100| PHL|Philadelphia, PA|            PA| Pennsylvania|    0528|       -9|            0|        0|             -1|   0001-0559|    0646|      -27|            0|        0|             -2|   0700-0759|        0|       0|     280|\n+----+-------+-----+------------+-----------+----------+-----------------+---------------------+----------+-----------------+------+----------------+----------------+---------------+---------------+----+----------------+--------------+-------------+--------+---------+-------------+---------+---------------+------------+--------+---------+-------------+---------+---------------+------------+---------+--------+--------+\nonly showing top 1 row\n\n"
     ]
    }
   ],
   "source": [
    "from pyspark.sql.functions import col\n",
    "\n",
    "# Remove canceled and diverted flights, and rows with missing delay data\n",
    "df_filtered = df_cleaned.filter((col(\"CANCELLED\") == 0) & (col(\"DIVERTED\") == 0)) \\\n",
    "    .filter(col(\"DEP_DELAY\").isNotNull() & col(\"ARR_DELAY\").isNotNull())\n",
    "\n",
    "df_filtered.show(1)"
   ]
  },
  {
   "cell_type": "code",
   "execution_count": 0,
   "metadata": {
    "application/vnd.databricks.v1+cell": {
     "cellMetadata": {
      "byteLimit": 2048000,
      "rowLimit": 10000
     },
     "inputWidgets": {},
     "nuid": "66e0b5a9-e718-4cc7-b109-4596ac12e9ca",
     "showTitle": false,
     "title": ""
    }
   },
   "outputs": [
    {
     "output_type": "stream",
     "name": "stdout",
     "output_type": "stream",
     "text": [
      "+-----------------+-------------------+-----------------+\n|OP_UNIQUE_CARRIER|Avg_Departure_Delay|Avg_Arrival_Delay|\n+-----------------+-------------------+-----------------+\n|               UA|               6.89|             0.43|\n|               NK|               6.48|             0.49|\n|               AA|               7.43|             0.84|\n|               EV|               8.45|             5.22|\n|               B6|              10.31|             4.05|\n|               DL|               4.93|            -2.94|\n|               OO|               9.93|             2.99|\n|               F9|               6.51|            -0.33|\n|               YV|               8.64|             4.49|\n|               MQ|                6.3|              3.1|\n+-----------------+-------------------+-----------------+\nonly showing top 10 rows\n\n"
     ]
    }
   ],
   "source": [
    "from pyspark.sql.functions import avg, round\n",
    "\n",
    "# Calculate average delays by airline\n",
    "airline_delay_df = df_filtered.groupBy(\"OP_UNIQUE_CARRIER\") \\\n",
    "    .agg(\n",
    "        round(avg(\"DEP_DELAY\"), 2).alias(\"Avg_Departure_Delay\"),\n",
    "        round(avg(\"ARR_DELAY\"), 2).alias(\"Avg_Arrival_Delay\")\n",
    "    )\n",
    "    \n",
    "airline_delay_df.show(10)"
   ]
  },
  {
   "cell_type": "code",
   "execution_count": 0,
   "metadata": {
    "application/vnd.databricks.v1+cell": {
     "cellMetadata": {
      "byteLimit": 2048000,
      "rowLimit": 10000
     },
     "inputWidgets": {},
     "nuid": "24bfdada-8c42-4c95-835e-cd58bcdd693d",
     "showTitle": false,
     "title": ""
    }
   },
   "outputs": [
    {
     "output_type": "stream",
     "name": "stdout",
     "output_type": "stream",
     "text": [
      "+-----------+-------------------+-----------------+\n|DAY_OF_WEEK|Avg_Departure_Delay|Avg_Arrival_Delay|\n+-----------+-------------------+-----------------+\n|          1|               6.59|            -0.29|\n|          6|               6.61|            -0.36|\n|          3|               5.65|            -0.81|\n|          5|               7.99|             1.91|\n|          4|                8.5|             2.66|\n|          7|               7.01|             0.24|\n|          2|                4.2|            -2.98|\n+-----------+-------------------+-----------------+\n\n"
     ]
    }
   ],
   "source": [
    "# Calculate average delays for each day of the week\n",
    "day_of_week_delay_df = df_filtered.groupBy(\"DAY_OF_WEEK\") \\\n",
    "    .agg(\n",
    "        round(avg(\"DEP_DELAY\"), 2).alias(\"Avg_Departure_Delay\"),\n",
    "        round(avg(\"ARR_DELAY\"), 2).alias(\"Avg_Arrival_Delay\")\n",
    "    )\n",
    "\n",
    "day_of_week_delay_df.show()"
   ]
  },
  {
   "cell_type": "code",
   "execution_count": 0,
   "metadata": {
    "application/vnd.databricks.v1+cell": {
     "cellMetadata": {
      "byteLimit": 2048000,
      "rowLimit": 10000
     },
     "inputWidgets": {},
     "nuid": "46f8061b-6f30-45ba-8747-f4f0905aada2",
     "showTitle": false,
     "title": ""
    }
   },
   "outputs": [
    {
     "output_type": "stream",
     "name": "stdout",
     "output_type": "stream",
     "text": [
      "+------+----+-------------------+-----------------+\n|ORIGIN|DEST|Avg_Departure_Delay|Avg_Arrival_Delay|\n+------+----+-------------------+-----------------+\n|   CHA| PHL|              258.2|            252.6|\n|   CMH| AUS|              218.0|            200.0|\n|   AUS| CMH|              217.0|            216.0|\n|   PHL| CHA|             207.33|           216.67|\n|   BHM| SFO|              140.5|            148.0|\n|   AUS| GRR|             127.33|           123.67|\n|   SRQ| CMH|             124.33|           116.67|\n|   VPS| LCK|             123.33|           120.11|\n|   LCK| VPS|             121.89|           117.22|\n|   PVU| SNA|             101.71|            98.93|\n|   SNA| BOI|               99.5|           109.29|\n|   AVL| LAS|              98.75|             92.5|\n|   GRR| LAX|              98.43|            87.36|\n|   PGD| HTS|               93.0|             76.0|\n|   TWF| SFO|              85.14|            71.69|\n|   MSY| GSP|              83.67|            77.33|\n|   ORD| ERI|               80.4|             82.1|\n|   HTS| PGD|               79.0|             92.0|\n|   MTJ| LGA|              77.87|             55.8|\n|   MSY| GRR|              76.09|            72.18|\n+------+----+-------------------+-----------------+\nonly showing top 20 rows\n\n"
     ]
    }
   ],
   "source": [
    "# Analyze delays based on origin and destination pairs\n",
    "route_delay_df = df_filtered.groupBy(\"ORIGIN\", \"DEST\") \\\n",
    "    .agg(\n",
    "        round(avg(\"DEP_DELAY\"), 2).alias(\"Avg_Departure_Delay\"),\n",
    "        round(avg(\"ARR_DELAY\"), 2).alias(\"Avg_Arrival_Delay\")\n",
    "    ) \\\n",
    "    .orderBy(col(\"Avg_Departure_Delay\").desc())\n",
    "\n",
    "route_delay_df.show()"
   ]
  },
  {
   "cell_type": "code",
   "execution_count": 0,
   "metadata": {
    "application/vnd.databricks.v1+cell": {
     "cellMetadata": {
      "byteLimit": 2048000,
      "rowLimit": 10000
     },
     "inputWidgets": {},
     "nuid": "618a229b-adce-44ab-90f7-38e5305c4adb",
     "showTitle": false,
     "title": ""
    }
   },
   "outputs": [
    {
     "output_type": "stream",
     "name": "stdout",
     "output_type": "stream",
     "text": [
      "+--------+-------------------+-----------------+\n|DISTANCE|Avg_Departure_Delay|Avg_Arrival_Delay|\n+--------+-------------------+-----------------+\n|    1829|               8.07|             0.16|\n|     496|               6.07|            -0.79|\n|    1342|               3.14|            -5.44|\n|     148|               5.63|            -2.04|\n|     471|               5.84|             0.12|\n|    1959|               9.77|            -0.44|\n|     833|                7.2|             -1.0|\n|     463|              11.42|             5.24|\n|    1088|              -0.65|            -9.15|\n|    1721|               9.33|              1.7|\n+--------+-------------------+-----------------+\nonly showing top 10 rows\n\n"
     ]
    }
   ],
   "source": [
    "# Analyze delay trends by flight distance\n",
    "df_distance_analysis = df_filtered.groupBy(\"DISTANCE\") \\\n",
    "    .agg(\n",
    "        round(avg(\"DEP_DELAY\"), 2).alias(\"Avg_Departure_Delay\"),\n",
    "        round(avg(\"ARR_DELAY\"), 2).alias(\"Avg_Arrival_Delay\")\n",
    "    )\n",
    "\n",
    "df_distance_analysis.show(10)"
   ]
  },
  {
   "cell_type": "code",
   "execution_count": 0,
   "metadata": {
    "application/vnd.databricks.v1+cell": {
     "cellMetadata": {
      "byteLimit": 2048000,
      "rowLimit": 10000
     },
     "inputWidgets": {},
     "nuid": "a9787bf6-cd44-48ff-9a44-196b2c4911e0",
     "showTitle": false,
     "title": ""
    }
   },
   "outputs": [],
   "source": [
    "# Save individual DataFrames\n",
    "airline_delay_df.write.csv(\"/FileStore/shared_uploads/manjooranjoseph13@gmail.com/airline_delay_data.csv\", header=True)\n",
    "day_of_week_delay_df.write.csv(\"/FileStore/shared_uploads/manjooranjoseph13@gmail.com/day_of_week_delay_data.csv\", header=True)\n",
    "route_delay_df.write.csv(\"/FileStore/shared_uploads/manjooranjoseph13@gmail.com/route_delay_data.csv\", header=True)\n",
    "df_distance_analysis.write.csv(\"/FileStore/shared_uploads/manjooranjoseph13@gmail.com/distance_analysis_data.csv\", header=True)"
   ]
  }
 ],
 "metadata": {
  "application/vnd.databricks.v1+notebook": {
   "dashboards": [],
   "environmentMetadata": null,
   "language": "python",
   "notebookMetadata": {
    "pythonIndentUnit": 4
   },
   "notebookName": "Airline On-Time Performance Dataset",
   "widgets": {}
  }
 },
 "nbformat": 4,
 "nbformat_minor": 0
}
